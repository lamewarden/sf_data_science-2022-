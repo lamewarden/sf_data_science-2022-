{
 "cells": [
  {
   "cell_type": "code",
   "execution_count": 60,
   "metadata": {},
   "outputs": [],
   "source": [
    "import pandas as pd\n",
    "import numpy as np\n",
    "# Библиотеки для поиска координат по адресу\n",
    "import requests\n",
    "import urllib.parse\n",
    "# Создание колонок с городами и странами\n",
    "import reverse_geocoder as rg\n",
    "# Для оценки тональности поста\n",
    "import nltk\n",
    "from nltk.sentiment.vader import SentimentIntensityAnalyzer\n",
    "import time\n",
    "# Для поиска паттернов (отлов всех сортов Nothing)\n",
    "import re\n",
    "# импорт для работы с кодировщиком (для имен отелей)\n",
    "import category_encoders as ce \n",
    "# label encoding\n",
    "from sklearn import preprocessing\n",
    "# распаковка тэгов\n",
    "import ast\n",
    "\n",
    "from matplotlib import pyplot as plt\n",
    "import seaborn as sns\n"
   ]
  },
  {
   "cell_type": "code",
   "execution_count": 2,
   "metadata": {},
   "outputs": [
    {
     "data": {
      "text/html": [
       "<div>\n",
       "<style scoped>\n",
       "    .dataframe tbody tr th:only-of-type {\n",
       "        vertical-align: middle;\n",
       "    }\n",
       "\n",
       "    .dataframe tbody tr th {\n",
       "        vertical-align: top;\n",
       "    }\n",
       "\n",
       "    .dataframe thead th {\n",
       "        text-align: right;\n",
       "    }\n",
       "</style>\n",
       "<table border=\"1\" class=\"dataframe\">\n",
       "  <thead>\n",
       "    <tr style=\"text-align: right;\">\n",
       "      <th></th>\n",
       "      <th>hotel_address</th>\n",
       "      <th>additional_number_of_scoring</th>\n",
       "      <th>review_date</th>\n",
       "      <th>average_score</th>\n",
       "      <th>hotel_name</th>\n",
       "      <th>reviewer_nationality</th>\n",
       "      <th>negative_review</th>\n",
       "      <th>review_total_negative_word_counts</th>\n",
       "      <th>total_number_of_reviews</th>\n",
       "      <th>positive_review</th>\n",
       "      <th>review_total_positive_word_counts</th>\n",
       "      <th>total_number_of_reviews_reviewer_has_given</th>\n",
       "      <th>reviewer_score</th>\n",
       "      <th>tags</th>\n",
       "      <th>days_since_review</th>\n",
       "      <th>lat</th>\n",
       "      <th>lng</th>\n",
       "    </tr>\n",
       "  </thead>\n",
       "  <tbody>\n",
       "    <tr>\n",
       "      <th>0</th>\n",
       "      <td>Stratton Street Mayfair Westminster Borough Lo...</td>\n",
       "      <td>581</td>\n",
       "      <td>2/19/2016</td>\n",
       "      <td>8.4</td>\n",
       "      <td>The May Fair Hotel</td>\n",
       "      <td>United Kingdom</td>\n",
       "      <td>Leaving</td>\n",
       "      <td>3</td>\n",
       "      <td>1994</td>\n",
       "      <td>Staff were amazing</td>\n",
       "      <td>4</td>\n",
       "      <td>7</td>\n",
       "      <td>10.0</td>\n",
       "      <td>[' Leisure trip ', ' Couple ', ' Studio Suite ...</td>\n",
       "      <td>531 day</td>\n",
       "      <td>51.507894</td>\n",
       "      <td>-0.143671</td>\n",
       "    </tr>\n",
       "    <tr>\n",
       "      <th>1</th>\n",
       "      <td>130 134 Southampton Row Camden London WC1B 5AF...</td>\n",
       "      <td>299</td>\n",
       "      <td>1/12/2017</td>\n",
       "      <td>8.3</td>\n",
       "      <td>Mercure London Bloomsbury Hotel</td>\n",
       "      <td>United Kingdom</td>\n",
       "      <td>poor breakfast</td>\n",
       "      <td>3</td>\n",
       "      <td>1361</td>\n",
       "      <td>location</td>\n",
       "      <td>2</td>\n",
       "      <td>14</td>\n",
       "      <td>6.3</td>\n",
       "      <td>[' Business trip ', ' Couple ', ' Standard Dou...</td>\n",
       "      <td>203 day</td>\n",
       "      <td>51.521009</td>\n",
       "      <td>-0.123097</td>\n",
       "    </tr>\n",
       "    <tr>\n",
       "      <th>2</th>\n",
       "      <td>151 bis Rue de Rennes 6th arr 75006 Paris France</td>\n",
       "      <td>32</td>\n",
       "      <td>10/18/2016</td>\n",
       "      <td>8.9</td>\n",
       "      <td>Legend Saint Germain by Elegancia</td>\n",
       "      <td>China</td>\n",
       "      <td>No kettle in room</td>\n",
       "      <td>6</td>\n",
       "      <td>406</td>\n",
       "      <td>No Positive</td>\n",
       "      <td>0</td>\n",
       "      <td>14</td>\n",
       "      <td>7.5</td>\n",
       "      <td>[' Leisure trip ', ' Solo traveler ', ' Modern...</td>\n",
       "      <td>289 day</td>\n",
       "      <td>48.845377</td>\n",
       "      <td>2.325643</td>\n",
       "    </tr>\n",
       "  </tbody>\n",
       "</table>\n",
       "</div>"
      ],
      "text/plain": [
       "                                       hotel_address  \\\n",
       "0  Stratton Street Mayfair Westminster Borough Lo...   \n",
       "1  130 134 Southampton Row Camden London WC1B 5AF...   \n",
       "2   151 bis Rue de Rennes 6th arr 75006 Paris France   \n",
       "\n",
       "   additional_number_of_scoring review_date  average_score  \\\n",
       "0                           581   2/19/2016            8.4   \n",
       "1                           299   1/12/2017            8.3   \n",
       "2                            32  10/18/2016            8.9   \n",
       "\n",
       "                          hotel_name reviewer_nationality  \\\n",
       "0                 The May Fair Hotel      United Kingdom    \n",
       "1    Mercure London Bloomsbury Hotel      United Kingdom    \n",
       "2  Legend Saint Germain by Elegancia               China    \n",
       "\n",
       "       negative_review  review_total_negative_word_counts  \\\n",
       "0             Leaving                                   3   \n",
       "1       poor breakfast                                  3   \n",
       "2   No kettle in room                                   6   \n",
       "\n",
       "   total_number_of_reviews      positive_review  \\\n",
       "0                     1994   Staff were amazing   \n",
       "1                     1361             location   \n",
       "2                      406          No Positive   \n",
       "\n",
       "   review_total_positive_word_counts  \\\n",
       "0                                  4   \n",
       "1                                  2   \n",
       "2                                  0   \n",
       "\n",
       "   total_number_of_reviews_reviewer_has_given  reviewer_score  \\\n",
       "0                                           7            10.0   \n",
       "1                                          14             6.3   \n",
       "2                                          14             7.5   \n",
       "\n",
       "                                                tags days_since_review  \\\n",
       "0  [' Leisure trip ', ' Couple ', ' Studio Suite ...           531 day   \n",
       "1  [' Business trip ', ' Couple ', ' Standard Dou...           203 day   \n",
       "2  [' Leisure trip ', ' Solo traveler ', ' Modern...           289 day   \n",
       "\n",
       "         lat       lng  \n",
       "0  51.507894 -0.143671  \n",
       "1  51.521009 -0.123097  \n",
       "2  48.845377  2.325643  "
      ]
     },
     "execution_count": 2,
     "metadata": {},
     "output_type": "execute_result"
    }
   ],
   "source": [
    "hotels = pd.read_csv('./data/hotels.csv')\n",
    "hotels.head(3)"
   ]
  },
  {
   "attachments": {},
   "cell_type": "markdown",
   "metadata": {},
   "source": [
    "# Data processing\n",
    "## NANs\n"
   ]
  },
  {
   "cell_type": "code",
   "execution_count": 99,
   "metadata": {},
   "outputs": [
    {
     "data": {
      "text/plain": [
       "additional_number_of_scoring                  0\n",
       "review_date                                   0\n",
       "average_score                                 0\n",
       "review_total_negative_word_counts             0\n",
       "total_number_of_reviews                       0\n",
       "review_total_positive_word_counts             0\n",
       "total_number_of_reviews_reviewer_has_given    0\n",
       "reviewer_score                                0\n",
       "days_since_review                             0\n",
       "hotel_names_encoded                           0\n",
       "coord_code                                    0\n",
       "negative_review_tone                          0\n",
       "positive_review_tone                          0\n",
       "dtype: int64"
      ]
     },
     "execution_count": 99,
     "metadata": {},
     "output_type": "execute_result"
    }
   ],
   "source": [
    "hotels.isna().sum()"
   ]
  },
  {
   "attachments": {},
   "cell_type": "markdown",
   "metadata": {},
   "source": [
    "Только два признака? Волшебно! Вытянем недостающие `lat / lng` из адресов отеля. Попробуем это сделать с помощью Nominatim api от open street map."
   ]
  },
  {
   "attachments": {},
   "cell_type": "markdown",
   "metadata": {},
   "source": [
    "Искать по полному адресу не всегда получается (там нет знаков препинания и много опечаток -  поисковой движок не понимает), тоже самое и по названию отеля. \n",
    "\n",
    "Судя по всему у всех отелей без координат приблизительное положение может быть определенно по последним 3м словам в строке - там находится город, страна и почтовый индекс. Не идеально точно, но более чем достаточно для наших целей."
   ]
  },
  {
   "cell_type": "code",
   "execution_count": 4,
   "metadata": {},
   "outputs": [],
   "source": [
    "# создаем словарь с короткими адресами (их будет совсем немного)\n",
    "addresses = hotels[hotels['lat'].isna()].hotel_address.unique()\n",
    "short_addresses = set(map(lambda x: \" \".join(x.split()[-3:]), addresses))\n",
    "short_addresses_dict = dict.fromkeys(short_addresses, [])\n",
    "# pulling coordinates for every adress in the dict \n",
    "# (намного экономичнее по времени, чем тянуть данные на каждый отдельный коммент)\n",
    "for addr in short_addresses_dict.keys():\n",
    "    url = 'https://nominatim.openstreetmap.org/search/' + urllib.parse.quote(addr) +'?format=json'\n",
    "    response = requests.get(url).json()\n",
    "    short_addresses_dict[addr] = [response[0][\"lat\"], response[0][\"lon\"]]\n",
    "    \n",
    "def fill_columns(row):\n",
    "    ''' Функция заполняющая пропущенные широту и долготу из словарика с короткими названиями'''\n",
    "    if (pd.isna(row['lat']) and pd.isna(row['lng'])):\n",
    "        short_addr = \" \".join(row['hotel_address'].split()[-3:])\n",
    "        if short_addr in list(short_addresses_dict.keys()):\n",
    "            return pd.Series([float(short_addresses_dict[short_addr][0]), float(short_addresses_dict[short_addr][1])], index=['lat', 'lng'])\n",
    "        else:\n",
    "            return pd.Series([row['lat'], row['lng']], index=['lat', 'lng'])\n",
    "    else:\n",
    "        return pd.Series([row['lat'], row['lng']], index=['lat', 'lng'])\n"
   ]
  },
  {
   "cell_type": "code",
   "execution_count": 5,
   "metadata": {},
   "outputs": [
    {
     "name": "stdout",
     "output_type": "stream",
     "text": [
      "CPU times: user 1min 48s, sys: 899 ms, total: 1min 49s\n",
      "Wall time: 1min 49s\n"
     ]
    }
   ],
   "source": [
    "%%time\n",
    "# WHY does it take SO LONG? There is not a single loop in there!\n",
    "hotels[['lat','lng']] = hotels.apply(fill_columns, axis=1)"
   ]
  },
  {
   "cell_type": "code",
   "execution_count": 6,
   "metadata": {},
   "outputs": [],
   "source": [
    "# Теперь нам не нужна колонка адресов\n",
    "hotels.drop('hotel_address', axis=1, inplace=True)"
   ]
  },
  {
   "cell_type": "code",
   "execution_count": 7,
   "metadata": {},
   "outputs": [
    {
     "data": {
      "text/plain": [
       "Britannia International Hotel Canary Wharf           3587\n",
       "Strand Palace Hotel                                  3206\n",
       "Park Plaza Westminster Bridge London                 3095\n",
       "Copthorne Tara Hotel London Kensington               2688\n",
       "DoubleTree by Hilton Hotel London Tower of London    2379\n",
       "                                                     ... \n",
       "Ibis Styles Milano Palmanova                            7\n",
       "Renaissance Paris Republique Hotel Spa                  7\n",
       "Hotel Wagner                                            6\n",
       "Hotel Gallitzinberg                                     6\n",
       "Mercure Paris Porte d Orleans                           5\n",
       "Name: hotel_name, Length: 1492, dtype: int64"
      ]
     },
     "execution_count": 7,
     "metadata": {},
     "output_type": "execute_result"
    }
   ],
   "source": [
    "# хотелось бы тоже удалить \"hotel_name\", но интуиция подсказывает \n",
    "# что этот признак очень важен для предсказания\n",
    "hotels.hotel_name.value_counts()"
   ]
  },
  {
   "cell_type": "code",
   "execution_count": 78,
   "metadata": {},
   "outputs": [
    {
     "data": {
      "text/html": [
       "<div>\n",
       "<style scoped>\n",
       "    .dataframe tbody tr th:only-of-type {\n",
       "        vertical-align: middle;\n",
       "    }\n",
       "\n",
       "    .dataframe tbody tr th {\n",
       "        vertical-align: top;\n",
       "    }\n",
       "\n",
       "    .dataframe thead th {\n",
       "        text-align: right;\n",
       "    }\n",
       "</style>\n",
       "<table border=\"1\" class=\"dataframe\">\n",
       "  <thead>\n",
       "    <tr style=\"text-align: right;\">\n",
       "      <th></th>\n",
       "      <th>additional_number_of_scoring</th>\n",
       "      <th>review_date</th>\n",
       "      <th>average_score</th>\n",
       "      <th>review_total_negative_word_counts</th>\n",
       "      <th>total_number_of_reviews</th>\n",
       "      <th>review_total_positive_word_counts</th>\n",
       "      <th>total_number_of_reviews_reviewer_has_given</th>\n",
       "      <th>reviewer_score</th>\n",
       "      <th>days_since_review</th>\n",
       "      <th>hotel_names_encoded</th>\n",
       "      <th>...</th>\n",
       "      <th>negative_review_tone</th>\n",
       "      <th>positive_review_tone</th>\n",
       "      <th>review_month</th>\n",
       "      <th>review_day</th>\n",
       "      <th>reviewer_nationality_encoded</th>\n",
       "      <th>acc_type_tag</th>\n",
       "      <th>trip_type_tag</th>\n",
       "      <th>visitors_type_tag</th>\n",
       "      <th>stay_length_tag</th>\n",
       "      <th>mob_dev_tag</th>\n",
       "    </tr>\n",
       "  </thead>\n",
       "  <tbody>\n",
       "    <tr>\n",
       "      <th>0</th>\n",
       "      <td>581</td>\n",
       "      <td>1.455840e+09</td>\n",
       "      <td>8.4</td>\n",
       "      <td>3</td>\n",
       "      <td>1994</td>\n",
       "      <td>4</td>\n",
       "      <td>7</td>\n",
       "      <td>10.0</td>\n",
       "      <td>531</td>\n",
       "      <td>1366</td>\n",
       "      <td>...</td>\n",
       "      <td>-0.3412</td>\n",
       "      <td>0.5859</td>\n",
       "      <td>2</td>\n",
       "      <td>4</td>\n",
       "      <td>28</td>\n",
       "      <td>224</td>\n",
       "      <td>1.0</td>\n",
       "      <td>0</td>\n",
       "      <td>1.0</td>\n",
       "      <td>0.0</td>\n",
       "    </tr>\n",
       "    <tr>\n",
       "      <th>1</th>\n",
       "      <td>299</td>\n",
       "      <td>1.484179e+09</td>\n",
       "      <td>8.3</td>\n",
       "      <td>3</td>\n",
       "      <td>1361</td>\n",
       "      <td>2</td>\n",
       "      <td>14</td>\n",
       "      <td>6.3</td>\n",
       "      <td>203</td>\n",
       "      <td>975</td>\n",
       "      <td>...</td>\n",
       "      <td>-0.4767</td>\n",
       "      <td>0.4404</td>\n",
       "      <td>1</td>\n",
       "      <td>3</td>\n",
       "      <td>28</td>\n",
       "      <td>193</td>\n",
       "      <td>0.0</td>\n",
       "      <td>0</td>\n",
       "      <td>0.0</td>\n",
       "      <td>1.0</td>\n",
       "    </tr>\n",
       "    <tr>\n",
       "      <th>2</th>\n",
       "      <td>32</td>\n",
       "      <td>1.476749e+09</td>\n",
       "      <td>8.9</td>\n",
       "      <td>6</td>\n",
       "      <td>406</td>\n",
       "      <td>0</td>\n",
       "      <td>14</td>\n",
       "      <td>7.5</td>\n",
       "      <td>289</td>\n",
       "      <td>909</td>\n",
       "      <td>...</td>\n",
       "      <td>-0.2960</td>\n",
       "      <td>0.0000</td>\n",
       "      <td>10</td>\n",
       "      <td>1</td>\n",
       "      <td>4</td>\n",
       "      <td>280</td>\n",
       "      <td>1.0</td>\n",
       "      <td>5</td>\n",
       "      <td>2.0</td>\n",
       "      <td>0.0</td>\n",
       "    </tr>\n",
       "    <tr>\n",
       "      <th>3</th>\n",
       "      <td>34</td>\n",
       "      <td>1.442880e+09</td>\n",
       "      <td>7.5</td>\n",
       "      <td>0</td>\n",
       "      <td>607</td>\n",
       "      <td>11</td>\n",
       "      <td>8</td>\n",
       "      <td>10.0</td>\n",
       "      <td>681</td>\n",
       "      <td>983</td>\n",
       "      <td>...</td>\n",
       "      <td>0.0000</td>\n",
       "      <td>0.9169</td>\n",
       "      <td>9</td>\n",
       "      <td>1</td>\n",
       "      <td>28</td>\n",
       "      <td>208</td>\n",
       "      <td>1.0</td>\n",
       "      <td>5</td>\n",
       "      <td>0.0</td>\n",
       "      <td>1.0</td>\n",
       "    </tr>\n",
       "    <tr>\n",
       "      <th>4</th>\n",
       "      <td>914</td>\n",
       "      <td>1.457136e+09</td>\n",
       "      <td>8.5</td>\n",
       "      <td>4</td>\n",
       "      <td>7586</td>\n",
       "      <td>20</td>\n",
       "      <td>10</td>\n",
       "      <td>9.6</td>\n",
       "      <td>516</td>\n",
       "      <td>349</td>\n",
       "      <td>...</td>\n",
       "      <td>-0.2500</td>\n",
       "      <td>0.8503</td>\n",
       "      <td>3</td>\n",
       "      <td>5</td>\n",
       "      <td>16</td>\n",
       "      <td>199</td>\n",
       "      <td>0.0</td>\n",
       "      <td>0</td>\n",
       "      <td>5.0</td>\n",
       "      <td>1.0</td>\n",
       "    </tr>\n",
       "  </tbody>\n",
       "</table>\n",
       "<p>5 rows × 21 columns</p>\n",
       "</div>"
      ],
      "text/plain": [
       "   additional_number_of_scoring   review_date  average_score  \\\n",
       "0                           581  1.455840e+09            8.4   \n",
       "1                           299  1.484179e+09            8.3   \n",
       "2                            32  1.476749e+09            8.9   \n",
       "3                            34  1.442880e+09            7.5   \n",
       "4                           914  1.457136e+09            8.5   \n",
       "\n",
       "   review_total_negative_word_counts  total_number_of_reviews  \\\n",
       "0                                  3                     1994   \n",
       "1                                  3                     1361   \n",
       "2                                  6                      406   \n",
       "3                                  0                      607   \n",
       "4                                  4                     7586   \n",
       "\n",
       "   review_total_positive_word_counts  \\\n",
       "0                                  4   \n",
       "1                                  2   \n",
       "2                                  0   \n",
       "3                                 11   \n",
       "4                                 20   \n",
       "\n",
       "   total_number_of_reviews_reviewer_has_given  reviewer_score  \\\n",
       "0                                           7            10.0   \n",
       "1                                          14             6.3   \n",
       "2                                          14             7.5   \n",
       "3                                           8            10.0   \n",
       "4                                          10             9.6   \n",
       "\n",
       "   days_since_review  hotel_names_encoded  ...  negative_review_tone  \\\n",
       "0                531                 1366  ...               -0.3412   \n",
       "1                203                  975  ...               -0.4767   \n",
       "2                289                  909  ...               -0.2960   \n",
       "3                681                  983  ...                0.0000   \n",
       "4                516                  349  ...               -0.2500   \n",
       "\n",
       "   positive_review_tone  review_month  review_day  \\\n",
       "0                0.5859             2           4   \n",
       "1                0.4404             1           3   \n",
       "2                0.0000            10           1   \n",
       "3                0.9169             9           1   \n",
       "4                0.8503             3           5   \n",
       "\n",
       "   reviewer_nationality_encoded  acc_type_tag  trip_type_tag  \\\n",
       "0                            28           224            1.0   \n",
       "1                            28           193            0.0   \n",
       "2                             4           280            1.0   \n",
       "3                            28           208            1.0   \n",
       "4                            16           199            0.0   \n",
       "\n",
       "   visitors_type_tag  stay_length_tag  mob_dev_tag  \n",
       "0                  0              1.0          0.0  \n",
       "1                  0              0.0          1.0  \n",
       "2                  5              2.0          0.0  \n",
       "3                  5              0.0          1.0  \n",
       "4                  0              5.0          1.0  \n",
       "\n",
       "[5 rows x 21 columns]"
      ]
     },
     "execution_count": 78,
     "metadata": {},
     "output_type": "execute_result"
    }
   ],
   "source": [
    "# Попробуем его закодировать\n",
    "# label encoding (random forest понимает категориальные данные, необязательно все переводить в 1 и 0)\n",
    "label_encoder = preprocessing.LabelEncoder()\n",
    "hotels['hotel_names_encoded']= label_encoder.fit_transform(hotels['hotel_name'])\n",
    "# По отдельности lat/lng врятли будут полезны - сольем их в один кат признак.\n",
    "hotels['coord_code'] = hotels['lat'] * hotels['lng']\n",
    "hotels['coord_code'] = label_encoder.fit_transform(hotels['coord_code'])\n",
    "# смотрим во что превратился датафрейм\n",
    "hotels.head()\n"
   ]
  },
  {
   "cell_type": "code",
   "execution_count": 9,
   "metadata": {},
   "outputs": [],
   "source": [
    "# дропнем избыточные теперь колонки\n",
    "hotels.drop(['hotel_name', 'lat', 'lng'], axis=1, inplace=True)"
   ]
  },
  {
   "attachments": {},
   "cell_type": "markdown",
   "metadata": {},
   "source": [
    "# Преобразование строковых данных. \n",
    "## positive_review / negative_review \n",
    "Kолонки с отзывами потенциально могут быть очень полезны. Начнем с них."
   ]
  },
  {
   "cell_type": "code",
   "execution_count": 10,
   "metadata": {},
   "outputs": [
    {
     "name": "stdout",
     "output_type": "stream",
     "text": [
      "<class 'pandas.core.frame.DataFrame'>\n",
      "RangeIndex: 386803 entries, 0 to 386802\n",
      "Data columns (total 15 columns):\n",
      " #   Column                                      Non-Null Count   Dtype  \n",
      "---  ------                                      --------------   -----  \n",
      " 0   additional_number_of_scoring                386803 non-null  int64  \n",
      " 1   review_date                                 386803 non-null  object \n",
      " 2   average_score                               386803 non-null  float64\n",
      " 3   reviewer_nationality                        386803 non-null  object \n",
      " 4   negative_review                             386803 non-null  object \n",
      " 5   review_total_negative_word_counts           386803 non-null  int64  \n",
      " 6   total_number_of_reviews                     386803 non-null  int64  \n",
      " 7   positive_review                             386803 non-null  object \n",
      " 8   review_total_positive_word_counts           386803 non-null  int64  \n",
      " 9   total_number_of_reviews_reviewer_has_given  386803 non-null  int64  \n",
      " 10  reviewer_score                              386803 non-null  float64\n",
      " 11  tags                                        386803 non-null  object \n",
      " 12  days_since_review                           386803 non-null  object \n",
      " 13  hotel_names_encoded                         386803 non-null  int64  \n",
      " 14  coord_code                                  386803 non-null  float64\n",
      "dtypes: float64(3), int64(6), object(6)\n",
      "memory usage: 44.3+ MB\n"
     ]
    }
   ],
   "source": [
    "hotels.info()"
   ]
  },
  {
   "attachments": {},
   "cell_type": "markdown",
   "metadata": {},
   "source": [
    "Самый популярный негативный отзыв это техническое `No Negative` которое видимо означает что отзыв вообще не был оставлен, все остальные вариации написания слова Nothing видимо оставлены пользователями в качестве скорее позитивной оценки, мол ничего плохого, все ок. \n",
    "\n",
    "Учитывая что я потом хочу всунуть данные в `SentimentIntensityAnalyzer` который воспринимает `No Negative` как открыто негативный отзыв а `nothing` как нейтральный, нужно сделать небольшой твик: `No Negative` мы заменим на 0, который выдает интерпретируется как нейтральный отзыв. А все варианты написания nothing мы унифицируем.\n",
    "\n",
    "У анализатора, есть еще одна ожидаемая слабость - если он видит одно слово типа \"завтрак\", он не воспринимает его как негативное, но как нейтральное (что логично). Анализатор не знает что речь идет о негативных отзывах. Поэтому можно сделать еще один кульбит и добавить к недостаточно однозначным словам кусочек \"was not good\". Решая такую же проблему в позитивных отзывах можно добавить туда \"was good\". Посмотрим, поможет ли."
   ]
  },
  {
   "cell_type": "code",
   "execution_count": 11,
   "metadata": {},
   "outputs": [
    {
     "data": {
      "text/plain": [
       "No Negative         95907\n",
       " Nothing            10737\n",
       " Nothing             3154\n",
       " nothing             1660\n",
       " N A                  802\n",
       " None                 737\n",
       "                      606\n",
       " N a                  384\n",
       " Breakfast            296\n",
       " Small room           283\n",
       " Location             281\n",
       " All good             251\n",
       " Everything           251\n",
       " Nothing really       240\n",
       " none                 223\n",
       " nothing              219\n",
       " No complaints        201\n",
       " Nil                  197\n",
       " Nothing really       195\n",
       " Price                192\n",
       "Name: negative_review, dtype: int64"
      ]
     },
     "execution_count": 11,
     "metadata": {},
     "output_type": "execute_result"
    }
   ],
   "source": [
    "hotels['negative_review'].value_counts().head(20)"
   ]
  },
  {
   "cell_type": "code",
   "execution_count": 12,
   "metadata": {},
   "outputs": [],
   "source": [
    "def convert_to_nothing(text, pattern, str_to_return):\n",
    "    # Define a regular expression pattern to match all variants of \"nothing\" with various spacing and case\n",
    "    # Check if any matches are found in the text\n",
    "    \n",
    "    if pattern.search(text) and len(text.split()) <= 3: # дальше могут начаться сложные предложения, так просто к nothing несводимые\n",
    "        # If any matches are found, replace the entire text with str_to_return\n",
    "        return str_to_return\n",
    "        # If no matches are found, return the original text\n",
    "    elif (text.strip() == 'No Positive') or (text.strip() == 'No Negative'):\n",
    "        return '0'\n",
    "    else:\n",
    "        return text\n",
    "    \n",
    "def review_enchancer(text, tone=True):\n",
    "    ''' Усиливает неоднозначные односложные функции'''\n",
    "    if (len(text.split()) == 1) and (tone == True) and text != '0':\n",
    "        return text + \" was good\"\n",
    "    elif (len(text.split()) == 1) and (tone == False) and text != '0':\n",
    "        return text + \" was not good\"\n",
    "    else:\n",
    "        return text\n",
    "    \n",
    "\n"
   ]
  },
  {
   "cell_type": "code",
   "execution_count": 13,
   "metadata": {},
   "outputs": [],
   "source": [
    "pat = re.compile(r'\\b(nothing|nil|na|n a|nil|nope|none|no complaint|no complaints)\\b', re.IGNORECASE)\n",
    "hotels['negative_review'] = hotels['negative_review'].apply(lambda x: convert_to_nothing(x, pat, 'nothing'))\n",
    "hotels['negative_review'] = hotels['negative_review'].apply(lambda x: review_enchancer(x, tone=False))"
   ]
  },
  {
   "cell_type": "code",
   "execution_count": 14,
   "metadata": {},
   "outputs": [
    {
     "data": {
      "text/plain": [
       "0                            95909\n",
       "nothing was not good         22085\n",
       "                               606\n",
       " Breakfast was not good        298\n",
       " Small room                    283\n",
       " Location was not good         281\n",
       " All good                      251\n",
       " Everything was not good       251\n",
       " Price was not good            192\n",
       " Small rooms                   135\n",
       " All good                      116\n",
       " Expensive was not good        105\n",
       " Room size                     103\n",
       " Can t think of anything       103\n",
       " Very small room                98\n",
       " Everything was perfect         97\n",
       " Staff was not good             93\n",
       " Everything was great           89\n",
       " No was not good                89\n",
       " Everything was perfect         88\n",
       "Name: negative_review, dtype: int64"
      ]
     },
     "execution_count": 14,
     "metadata": {},
     "output_type": "execute_result"
    }
   ],
   "source": [
    "hotels['negative_review'].value_counts().head(20)"
   ]
  },
  {
   "attachments": {},
   "cell_type": "markdown",
   "metadata": {},
   "source": [
    "Засовываем в анализатор"
   ]
  },
  {
   "cell_type": "code",
   "execution_count": 15,
   "metadata": {},
   "outputs": [
    {
     "name": "stderr",
     "output_type": "stream",
     "text": [
      "[nltk_data] Downloading package vader_lexicon to\n",
      "[nltk_data]     /home/lamewarden/nltk_data...\n",
      "[nltk_data]   Package vader_lexicon is already up-to-date!\n"
     ]
    }
   ],
   "source": [
    "nltk.downloader.download('vader_lexicon')\n",
    "\n",
    "sent_analyzer = SentimentIntensityAnalyzer()\n",
    "\n",
    "hotels['negative_review_tone'] = hotels['negative_review'].apply(lambda x: sent_analyzer.polarity_scores(x)['compound'])"
   ]
  },
  {
   "cell_type": "code",
   "execution_count": 16,
   "metadata": {},
   "outputs": [
    {
     "data": {
      "text/html": [
       "<div>\n",
       "<style scoped>\n",
       "    .dataframe tbody tr th:only-of-type {\n",
       "        vertical-align: middle;\n",
       "    }\n",
       "\n",
       "    .dataframe tbody tr th {\n",
       "        vertical-align: top;\n",
       "    }\n",
       "\n",
       "    .dataframe thead th {\n",
       "        text-align: right;\n",
       "    }\n",
       "</style>\n",
       "<table border=\"1\" class=\"dataframe\">\n",
       "  <thead>\n",
       "    <tr style=\"text-align: right;\">\n",
       "      <th></th>\n",
       "      <th>negative_review_tone</th>\n",
       "      <th>negative_review</th>\n",
       "    </tr>\n",
       "  </thead>\n",
       "  <tbody>\n",
       "    <tr>\n",
       "      <th>0</th>\n",
       "      <td>-0.3412</td>\n",
       "      <td>Leaving  was not good</td>\n",
       "    </tr>\n",
       "    <tr>\n",
       "      <th>1</th>\n",
       "      <td>-0.4767</td>\n",
       "      <td>poor breakfast</td>\n",
       "    </tr>\n",
       "    <tr>\n",
       "      <th>2</th>\n",
       "      <td>-0.2960</td>\n",
       "      <td>No kettle in room</td>\n",
       "    </tr>\n",
       "    <tr>\n",
       "      <th>3</th>\n",
       "      <td>0.0000</td>\n",
       "      <td>0</td>\n",
       "    </tr>\n",
       "    <tr>\n",
       "      <th>4</th>\n",
       "      <td>-0.2500</td>\n",
       "      <td>Torn sheets</td>\n",
       "    </tr>\n",
       "    <tr>\n",
       "      <th>...</th>\n",
       "      <td>...</td>\n",
       "      <td>...</td>\n",
       "    </tr>\n",
       "    <tr>\n",
       "      <th>386798</th>\n",
       "      <td>0.0000</td>\n",
       "      <td>0</td>\n",
       "    </tr>\n",
       "    <tr>\n",
       "      <th>386799</th>\n",
       "      <td>0.0000</td>\n",
       "      <td>0</td>\n",
       "    </tr>\n",
       "    <tr>\n",
       "      <th>386800</th>\n",
       "      <td>0.0000</td>\n",
       "      <td>room is really small but guess is normal in L...</td>\n",
       "    </tr>\n",
       "    <tr>\n",
       "      <th>386801</th>\n",
       "      <td>0.0000</td>\n",
       "      <td>0</td>\n",
       "    </tr>\n",
       "    <tr>\n",
       "      <th>386802</th>\n",
       "      <td>0.0000</td>\n",
       "      <td>Patio outside could have been cleaned of alga...</td>\n",
       "    </tr>\n",
       "  </tbody>\n",
       "</table>\n",
       "<p>386803 rows × 2 columns</p>\n",
       "</div>"
      ],
      "text/plain": [
       "        negative_review_tone  \\\n",
       "0                    -0.3412   \n",
       "1                    -0.4767   \n",
       "2                    -0.2960   \n",
       "3                     0.0000   \n",
       "4                    -0.2500   \n",
       "...                      ...   \n",
       "386798                0.0000   \n",
       "386799                0.0000   \n",
       "386800                0.0000   \n",
       "386801                0.0000   \n",
       "386802                0.0000   \n",
       "\n",
       "                                          negative_review  \n",
       "0                                   Leaving  was not good  \n",
       "1                                          poor breakfast  \n",
       "2                                      No kettle in room   \n",
       "3                                                       0  \n",
       "4                                            Torn sheets   \n",
       "...                                                   ...  \n",
       "386798                                                  0  \n",
       "386799                                                  0  \n",
       "386800   room is really small but guess is normal in L...  \n",
       "386801                                                  0  \n",
       "386802   Patio outside could have been cleaned of alga...  \n",
       "\n",
       "[386803 rows x 2 columns]"
      ]
     },
     "execution_count": 16,
     "metadata": {},
     "output_type": "execute_result"
    }
   ],
   "source": [
    "# посмотри если нет вопиющих ошибок\n",
    "hotels[['negative_review_tone', 'negative_review']]"
   ]
  },
  {
   "attachments": {},
   "cell_type": "markdown",
   "metadata": {},
   "source": [
    "Выглядит океюшно. Поехали на позитивные отзывы."
   ]
  },
  {
   "cell_type": "code",
   "execution_count": 17,
   "metadata": {},
   "outputs": [
    {
     "data": {
      "text/plain": [
       "No Positive            26885\n",
       " Location               6833\n",
       " Everything             1697\n",
       " location               1251\n",
       " Nothing                 931\n",
       " The location            830\n",
       " Great location          809\n",
       " Good location           690\n",
       " Location                663\n",
       " Breakfast               455\n",
       " Everything              449\n",
       " Friendly staff          385\n",
       " Staff                   347\n",
       " Excellent location      296\n",
       " Great location          280\n",
       " Location and staff      256\n",
       " everything              233\n",
       " Good location           214\n",
       " Nothing                 170\n",
       " nothing                 159\n",
       "Name: positive_review, dtype: int64"
      ]
     },
     "execution_count": 17,
     "metadata": {},
     "output_type": "execute_result"
    }
   ],
   "source": [
    "hotels['positive_review'].value_counts().head(20)"
   ]
  },
  {
   "cell_type": "code",
   "execution_count": 18,
   "metadata": {},
   "outputs": [],
   "source": [
    "# тавтологичных оценок сильно меньше, поэтому не будем делать избыточную работу\n",
    "# на первом этапе просто закодируем отсутствие отзыва на 0 как в негативных отзывах\n",
    "hotels['positive_review'] = hotels['positive_review'].apply(lambda text : '0' if text.strip() == 'No Positive' else text)\n",
    "# теперь проведем обработку \"неоднозначных\" значений\n",
    "hotels['positive_review'] = hotels['positive_review'].apply(lambda x: review_enchancer(x, tone=True))"
   ]
  },
  {
   "cell_type": "code",
   "execution_count": 19,
   "metadata": {},
   "outputs": [
    {
     "data": {
      "text/plain": [
       "0                        26885\n",
       " Location was good        6973\n",
       " Everything was good      1737\n",
       " location was good        1271\n",
       " Nothing was good          931\n",
       " The location              830\n",
       " Great location            809\n",
       " Good location             690\n",
       " Location  was good        663\n",
       " Breakfast was good        554\n",
       " Everything  was good      449\n",
       " Friendly staff            385\n",
       " Staff was good            349\n",
       " Excellent location        296\n",
       " Great location            280\n",
       " Location and staff        256\n",
       " everything was good       237\n",
       " Good location             214\n",
       " Nothing  was good         170\n",
       " nothing was good          159\n",
       "Name: positive_review, dtype: int64"
      ]
     },
     "execution_count": 19,
     "metadata": {},
     "output_type": "execute_result"
    }
   ],
   "source": [
    "hotels['positive_review'].value_counts().head(20)"
   ]
  },
  {
   "cell_type": "code",
   "execution_count": 20,
   "metadata": {},
   "outputs": [
    {
     "name": "stderr",
     "output_type": "stream",
     "text": [
      "[nltk_data] Downloading package vader_lexicon to\n",
      "[nltk_data]     /home/lamewarden/nltk_data...\n",
      "[nltk_data]   Package vader_lexicon is already up-to-date!\n"
     ]
    }
   ],
   "source": [
    "# Теперь анализатор тональности\n",
    "nltk.downloader.download('vader_lexicon')\n",
    "\n",
    "sent_analyzer = SentimentIntensityAnalyzer()\n",
    "\n",
    "hotels['positive_review_tone'] = hotels['positive_review'].apply(lambda x: sent_analyzer.polarity_scores(x)['compound'])"
   ]
  },
  {
   "cell_type": "code",
   "execution_count": 21,
   "metadata": {},
   "outputs": [
    {
     "data": {
      "text/html": [
       "<div>\n",
       "<style scoped>\n",
       "    .dataframe tbody tr th:only-of-type {\n",
       "        vertical-align: middle;\n",
       "    }\n",
       "\n",
       "    .dataframe tbody tr th {\n",
       "        vertical-align: top;\n",
       "    }\n",
       "\n",
       "    .dataframe thead th {\n",
       "        text-align: right;\n",
       "    }\n",
       "</style>\n",
       "<table border=\"1\" class=\"dataframe\">\n",
       "  <thead>\n",
       "    <tr style=\"text-align: right;\">\n",
       "      <th></th>\n",
       "      <th>positive_review_tone</th>\n",
       "      <th>positive_review</th>\n",
       "    </tr>\n",
       "  </thead>\n",
       "  <tbody>\n",
       "    <tr>\n",
       "      <th>0</th>\n",
       "      <td>0.5859</td>\n",
       "      <td>Staff were amazing</td>\n",
       "    </tr>\n",
       "    <tr>\n",
       "      <th>1</th>\n",
       "      <td>0.4404</td>\n",
       "      <td>location was good</td>\n",
       "    </tr>\n",
       "    <tr>\n",
       "      <th>2</th>\n",
       "      <td>0.0000</td>\n",
       "      <td>0</td>\n",
       "    </tr>\n",
       "    <tr>\n",
       "      <th>3</th>\n",
       "      <td>0.9169</td>\n",
       "      <td>Friendly staff quiet comfortable room spotles...</td>\n",
       "    </tr>\n",
       "    <tr>\n",
       "      <th>4</th>\n",
       "      <td>0.8503</td>\n",
       "      <td>The staff was very friendly and helpful Break...</td>\n",
       "    </tr>\n",
       "    <tr>\n",
       "      <th>...</th>\n",
       "      <td>...</td>\n",
       "      <td>...</td>\n",
       "    </tr>\n",
       "    <tr>\n",
       "      <th>386798</th>\n",
       "      <td>0.0000</td>\n",
       "      <td>Tr s proche du metro Earl s court</td>\n",
       "    </tr>\n",
       "    <tr>\n",
       "      <th>386799</th>\n",
       "      <td>0.7264</td>\n",
       "      <td>The bed was so comfy I stayed with my boyfrie...</td>\n",
       "    </tr>\n",
       "    <tr>\n",
       "      <th>386800</th>\n",
       "      <td>0.7845</td>\n",
       "      <td>great location simple check in out nice shower</td>\n",
       "    </tr>\n",
       "    <tr>\n",
       "      <th>386801</th>\n",
       "      <td>0.0000</td>\n",
       "      <td>Location and very comfy bed</td>\n",
       "    </tr>\n",
       "    <tr>\n",
       "      <th>386802</th>\n",
       "      <td>0.9366</td>\n",
       "      <td>Beds comfortable Pillows also good Homely fee...</td>\n",
       "    </tr>\n",
       "  </tbody>\n",
       "</table>\n",
       "<p>386803 rows × 2 columns</p>\n",
       "</div>"
      ],
      "text/plain": [
       "        positive_review_tone  \\\n",
       "0                     0.5859   \n",
       "1                     0.4404   \n",
       "2                     0.0000   \n",
       "3                     0.9169   \n",
       "4                     0.8503   \n",
       "...                      ...   \n",
       "386798                0.0000   \n",
       "386799                0.7264   \n",
       "386800                0.7845   \n",
       "386801                0.0000   \n",
       "386802                0.9366   \n",
       "\n",
       "                                          positive_review  \n",
       "0                                      Staff were amazing  \n",
       "1                                       location was good  \n",
       "2                                                       0  \n",
       "3        Friendly staff quiet comfortable room spotles...  \n",
       "4        The staff was very friendly and helpful Break...  \n",
       "...                                                   ...  \n",
       "386798                 Tr s proche du metro Earl s court   \n",
       "386799   The bed was so comfy I stayed with my boyfrie...  \n",
       "386800     great location simple check in out nice shower  \n",
       "386801                        Location and very comfy bed  \n",
       "386802   Beds comfortable Pillows also good Homely fee...  \n",
       "\n",
       "[386803 rows x 2 columns]"
      ]
     },
     "execution_count": 21,
     "metadata": {},
     "output_type": "execute_result"
    }
   ],
   "source": [
    "# посмотрим если нет вопиющих ошибок\n",
    "hotels[['positive_review_tone', 'positive_review']]"
   ]
  },
  {
   "cell_type": "code",
   "execution_count": 22,
   "metadata": {},
   "outputs": [],
   "source": [
    "# думаю оригинальные колонки отзывов можно удалять - я не знаю что еще из них можно вытянуть\n",
    "hotels = hotels.drop(['positive_review', 'negative_review'], axis = 1)\n",
    "# попробуем вывести общую оценку?\n",
    "hotels['review_tone_sum'] = hotels['positive_review_tone'] + hotels['negative_review_tone']"
   ]
  },
  {
   "attachments": {},
   "cell_type": "markdown",
   "metadata": {},
   "source": [
    "## `review_date`\n",
    "Отсюда можно вытащить горы интересных данных. \n",
    "1.  Собственно время, переведем его в стандарт юникс тип и нормализуем;\n",
    "2.  Вытянем столбец с месяцем - одно и то же место может ощущаться очень по-разному в Декабре и Июне;\n",
    "3.  Вытянем день недели - по собственному опыту знаю, что отзыв пишется или в день поездки или 1-2 дня после, то есть коррелирует со днями недели в которые человек в отеле останавливался. Логично предположить, что те, кто приехал куда-то на выходные будут иметь немного другие ожидания, чем те, кто путешествует по работе в будни.\n",
    "4. Год? Как мы знаем ковидный год для туристов это вобще не стандартный год. Значения в зависимости от года тоже могут отличаться.\n",
    "### Выделяем время:"
   ]
  },
  {
   "cell_type": "code",
   "execution_count": 23,
   "metadata": {},
   "outputs": [],
   "source": [
    "hotels['review_date'] = pd.to_datetime(hotels['review_date'], dayfirst=False)"
   ]
  },
  {
   "cell_type": "code",
   "execution_count": 24,
   "metadata": {},
   "outputs": [],
   "source": [
    "hotels['review_month'] = hotels['review_date'].dt.month\n",
    "hotels['review_day'] = hotels['review_date'].dt.weekday\n",
    "hotels['review_year'] = hotels['review_date'].dt.year\n",
    "# now converting it into standart unix time:\n",
    "hotels['review_date']= hotels['review_date'].apply(lambda x: x.timestamp())\n",
    "# нормализацией займемся позже"
   ]
  },
  {
   "attachments": {},
   "cell_type": "markdown",
   "metadata": {},
   "source": [
    "## `reviewer_nationality`\n",
    "Ну что, добавим немного бытового расизма?\n",
    "Стран откуда приехали гости много, но распределение очень сильно смещено к первой десятке. В первые 30 стран входит почти 90% всех отзывов."
   ]
  },
  {
   "cell_type": "code",
   "execution_count": 25,
   "metadata": {},
   "outputs": [
    {
     "name": "stdout",
     "output_type": "stream",
     "text": [
      "Top 30 countries are responsible for 88.08% of all reviewes\n"
     ]
    }
   ],
   "source": [
    "top_countries = list(hotels.reviewer_nationality.value_counts().head(30).keys())\n",
    "top_number = hotels[hotels['reviewer_nationality'].isin(top_countries)].shape[0]\n",
    "rest_number = hotels[hotels['reviewer_nationality'].isin(top_countries) == False].shape[0]\n",
    "print(f\"Top 30 countries are responsible for {round(top_number/(top_number+rest_number),4)*100}% of all reviewes\")"
   ]
  },
  {
   "attachments": {},
   "cell_type": "markdown",
   "metadata": {},
   "source": [
    "Оставим первую 30-ку как есть, остальные переименуем в 'other'"
   ]
  },
  {
   "cell_type": "code",
   "execution_count": 26,
   "metadata": {},
   "outputs": [],
   "source": [
    "hotels.loc[~hotels['reviewer_nationality'].isin(top_countries), 'reviewer_nationality'] = 'other'"
   ]
  },
  {
   "attachments": {},
   "cell_type": "markdown",
   "metadata": {},
   "source": [
    "\"Оцифруем\" признак через label encoding:"
   ]
  },
  {
   "cell_type": "code",
   "execution_count": 27,
   "metadata": {},
   "outputs": [],
   "source": [
    "label_encoder = preprocessing.LabelEncoder()\n",
    "hotels['reviewer_nationality_encoded']= label_encoder.fit_transform(hotels['reviewer_nationality'])"
   ]
  },
  {
   "cell_type": "code",
   "execution_count": 28,
   "metadata": {},
   "outputs": [],
   "source": [
    "# избавляемся от reviewer_nationality\n",
    "hotels.drop('reviewer_nationality', axis=1, inplace=True)"
   ]
  },
  {
   "cell_type": "code",
   "execution_count": 29,
   "metadata": {},
   "outputs": [
    {
     "name": "stdout",
     "output_type": "stream",
     "text": [
      "<class 'pandas.core.frame.DataFrame'>\n",
      "RangeIndex: 386803 entries, 0 to 386802\n",
      "Data columns (total 19 columns):\n",
      " #   Column                                      Non-Null Count   Dtype  \n",
      "---  ------                                      --------------   -----  \n",
      " 0   additional_number_of_scoring                386803 non-null  int64  \n",
      " 1   review_date                                 386803 non-null  float64\n",
      " 2   average_score                               386803 non-null  float64\n",
      " 3   review_total_negative_word_counts           386803 non-null  int64  \n",
      " 4   total_number_of_reviews                     386803 non-null  int64  \n",
      " 5   review_total_positive_word_counts           386803 non-null  int64  \n",
      " 6   total_number_of_reviews_reviewer_has_given  386803 non-null  int64  \n",
      " 7   reviewer_score                              386803 non-null  float64\n",
      " 8   tags                                        386803 non-null  object \n",
      " 9   days_since_review                           386803 non-null  object \n",
      " 10  hotel_names_encoded                         386803 non-null  int64  \n",
      " 11  coord_code                                  386803 non-null  float64\n",
      " 12  negative_review_tone                        386803 non-null  float64\n",
      " 13  positive_review_tone                        386803 non-null  float64\n",
      " 14  review_tone_sum                             386803 non-null  float64\n",
      " 15  review_month                                386803 non-null  int64  \n",
      " 16  review_day                                  386803 non-null  int64  \n",
      " 17  review_year                                 386803 non-null  int64  \n",
      " 18  reviewer_nationality_encoded                386803 non-null  int64  \n",
      "dtypes: float64(7), int64(10), object(2)\n",
      "memory usage: 56.1+ MB\n"
     ]
    }
   ],
   "source": [
    "hotels.info()"
   ]
  },
  {
   "attachments": {},
   "cell_type": "markdown",
   "metadata": {},
   "source": [
    "## `tags`"
   ]
  },
  {
   "cell_type": "code",
   "execution_count": 30,
   "metadata": {},
   "outputs": [],
   "source": [
    "# превращаем список в список (в оригинале это была строка)\n",
    "hotels['tags'] = hotels['tags'].apply(lambda x: ast.literal_eval(x))"
   ]
  },
  {
   "attachments": {},
   "cell_type": "markdown",
   "metadata": {},
   "source": [
    "Если приглядеться к этому списку повнимательнее, то становится очевидно, что это не просто рандомный мешок с тэгами. Пытаясь посчитать самые популярные тэги я перевел каждый лист в series объект и вывел их друг над другом как датафрейм. "
   ]
  },
  {
   "cell_type": "code",
   "execution_count": 31,
   "metadata": {},
   "outputs": [
    {
     "data": {
      "text/html": [
       "<div>\n",
       "<style scoped>\n",
       "    .dataframe tbody tr th:only-of-type {\n",
       "        vertical-align: middle;\n",
       "    }\n",
       "\n",
       "    .dataframe tbody tr th {\n",
       "        vertical-align: top;\n",
       "    }\n",
       "\n",
       "    .dataframe thead th {\n",
       "        text-align: right;\n",
       "    }\n",
       "</style>\n",
       "<table border=\"1\" class=\"dataframe\">\n",
       "  <thead>\n",
       "    <tr style=\"text-align: right;\">\n",
       "      <th></th>\n",
       "      <th>Тип поездки</th>\n",
       "      <th>Количество гостей</th>\n",
       "      <th>Тип квартиры</th>\n",
       "      <th>Длина визита</th>\n",
       "      <th>Отправлено с устройства ...</th>\n",
       "      <th>other</th>\n",
       "    </tr>\n",
       "  </thead>\n",
       "  <tbody>\n",
       "    <tr>\n",
       "      <th>0</th>\n",
       "      <td>Leisure trip</td>\n",
       "      <td>Couple</td>\n",
       "      <td>Studio Suite</td>\n",
       "      <td>Stayed 2 nights</td>\n",
       "      <td>Submitted from a mobile device</td>\n",
       "      <td>NaN</td>\n",
       "    </tr>\n",
       "    <tr>\n",
       "      <th>1</th>\n",
       "      <td>Business trip</td>\n",
       "      <td>Couple</td>\n",
       "      <td>Standard Double Room</td>\n",
       "      <td>Stayed 1 night</td>\n",
       "      <td>NaN</td>\n",
       "      <td>NaN</td>\n",
       "    </tr>\n",
       "    <tr>\n",
       "      <th>2</th>\n",
       "      <td>Leisure trip</td>\n",
       "      <td>Solo traveler</td>\n",
       "      <td>Modern Double Room Echo</td>\n",
       "      <td>Stayed 3 nights</td>\n",
       "      <td>Submitted from a mobile device</td>\n",
       "      <td>NaN</td>\n",
       "    </tr>\n",
       "    <tr>\n",
       "      <th>3</th>\n",
       "      <td>Leisure trip</td>\n",
       "      <td>Solo traveler</td>\n",
       "      <td>Standard Room with 1 Double Bed</td>\n",
       "      <td>Stayed 1 night</td>\n",
       "      <td>NaN</td>\n",
       "      <td>NaN</td>\n",
       "    </tr>\n",
       "    <tr>\n",
       "      <th>4</th>\n",
       "      <td>Business trip</td>\n",
       "      <td>Couple</td>\n",
       "      <td>Standard Double or Twin Room</td>\n",
       "      <td>Stayed 6 nights</td>\n",
       "      <td>NaN</td>\n",
       "      <td>NaN</td>\n",
       "    </tr>\n",
       "    <tr>\n",
       "      <th>...</th>\n",
       "      <td>...</td>\n",
       "      <td>...</td>\n",
       "      <td>...</td>\n",
       "      <td>...</td>\n",
       "      <td>...</td>\n",
       "      <td>...</td>\n",
       "    </tr>\n",
       "    <tr>\n",
       "      <th>386798</th>\n",
       "      <td>Leisure trip</td>\n",
       "      <td>Group</td>\n",
       "      <td>Club Double or Twin Room</td>\n",
       "      <td>Stayed 2 nights</td>\n",
       "      <td>Submitted from a mobile device</td>\n",
       "      <td>NaN</td>\n",
       "    </tr>\n",
       "    <tr>\n",
       "      <th>386799</th>\n",
       "      <td>Leisure trip</td>\n",
       "      <td>Couple</td>\n",
       "      <td>Standard Double Room</td>\n",
       "      <td>Stayed 4 nights</td>\n",
       "      <td>Submitted from a mobile device</td>\n",
       "      <td>NaN</td>\n",
       "    </tr>\n",
       "    <tr>\n",
       "      <th>386800</th>\n",
       "      <td>Business trip</td>\n",
       "      <td>Solo traveler</td>\n",
       "      <td>Single Room</td>\n",
       "      <td>Stayed 1 night</td>\n",
       "      <td>NaN</td>\n",
       "      <td>NaN</td>\n",
       "    </tr>\n",
       "    <tr>\n",
       "      <th>386801</th>\n",
       "      <td>Leisure trip</td>\n",
       "      <td>Solo traveler</td>\n",
       "      <td>Deluxe Double Room</td>\n",
       "      <td>Stayed 2 nights</td>\n",
       "      <td>NaN</td>\n",
       "      <td>NaN</td>\n",
       "    </tr>\n",
       "    <tr>\n",
       "      <th>386802</th>\n",
       "      <td>Leisure trip</td>\n",
       "      <td>Couple</td>\n",
       "      <td>Bunk Bed Room</td>\n",
       "      <td>Stayed 4 nights</td>\n",
       "      <td>NaN</td>\n",
       "      <td>NaN</td>\n",
       "    </tr>\n",
       "  </tbody>\n",
       "</table>\n",
       "<p>386803 rows × 6 columns</p>\n",
       "</div>"
      ],
      "text/plain": [
       "            Тип поездки Количество гостей                       Тип квартиры  \\\n",
       "0         Leisure trip            Couple                       Studio Suite    \n",
       "1        Business trip            Couple               Standard Double Room    \n",
       "2         Leisure trip     Solo traveler            Modern Double Room Echo    \n",
       "3         Leisure trip     Solo traveler    Standard Room with 1 Double Bed    \n",
       "4        Business trip            Couple       Standard Double or Twin Room    \n",
       "...                 ...               ...                                ...   \n",
       "386798    Leisure trip             Group           Club Double or Twin Room    \n",
       "386799    Leisure trip            Couple               Standard Double Room    \n",
       "386800   Business trip     Solo traveler                        Single Room    \n",
       "386801    Leisure trip     Solo traveler                 Deluxe Double Room    \n",
       "386802    Leisure trip            Couple                      Bunk Bed Room    \n",
       "\n",
       "             Длина визита       Отправлено с устройства ... other  \n",
       "0        Stayed 2 nights    Submitted from a mobile device    NaN  \n",
       "1         Stayed 1 night                                NaN   NaN  \n",
       "2        Stayed 3 nights    Submitted from a mobile device    NaN  \n",
       "3         Stayed 1 night                                NaN   NaN  \n",
       "4        Stayed 6 nights                                NaN   NaN  \n",
       "...                   ...                               ...   ...  \n",
       "386798   Stayed 2 nights    Submitted from a mobile device    NaN  \n",
       "386799   Stayed 4 nights    Submitted from a mobile device    NaN  \n",
       "386800    Stayed 1 night                                NaN   NaN  \n",
       "386801   Stayed 2 nights                                NaN   NaN  \n",
       "386802   Stayed 4 nights                                NaN   NaN  \n",
       "\n",
       "[386803 rows x 6 columns]"
      ]
     },
     "execution_count": 31,
     "metadata": {},
     "output_type": "execute_result"
    }
   ],
   "source": [
    "tags_df = hotels[\"tags\"].apply(pd.Series)\n",
    "tags_df.columns = [\"Тип поездки\", \"Количество гостей\", \"Тип квартиры\",  \"Длина визита\", \"Отправлено с устройства ...\", 'other']\n",
    "tags_df"
   ]
  },
  {
   "attachments": {},
   "cell_type": "markdown",
   "metadata": {},
   "source": [
    "У такого датафрейма однако есть проблемы - кое-где есть пропущенные теги и весь порядок тегов уехал вправо.\n",
    "Попробуем рассортировать значения, предварительно создав словарь всех значений, входящих в соответствующую категорию.\n",
    "\n",
    "\n",
    "\n",
    "Сначала создадим мешок со всеми тэгами вообще:"
   ]
  },
  {
   "cell_type": "code",
   "execution_count": 32,
   "metadata": {},
   "outputs": [
    {
     "name": "stdout",
     "output_type": "stream",
     "text": [
      "2368\n"
     ]
    }
   ],
   "source": [
    "tag_set = set()\n",
    "for a in range(0,6):\n",
    "    for key in tags_df.iloc[:,a].value_counts().keys():\n",
    "        tag_set.add(key)\n",
    "        \n",
    "print(len(tag_set))"
   ]
  },
  {
   "cell_type": "code",
   "execution_count": 33,
   "metadata": {},
   "outputs": [
    {
     "data": {
      "text/plain": [
       " Leisure trip                   312768\n",
       " Business trip                   61846\n",
       " Couple                           4346\n",
       " Solo traveler                    3216\n",
       " Family with young children       1660\n",
       " Group                            1188\n",
       " With a pet                       1045\n",
       " Family with older children        689\n",
       " Travelers with friends             45\n",
       "Name: Тип поездки, dtype: int64"
      ]
     },
     "execution_count": 33,
     "metadata": {},
     "output_type": "execute_result"
    }
   ],
   "source": [
    "# Тип поездки - очевидно что родные тут только первые две категории, остальное \"приехало\" из колонки справа\n",
    "tags_df.iloc[:,0].value_counts()"
   ]
  },
  {
   "cell_type": "code",
   "execution_count": 34,
   "metadata": {},
   "outputs": [
    {
     "data": {
      "text/plain": [
       "2366"
      ]
     },
     "execution_count": 34,
     "metadata": {},
     "output_type": "execute_result"
    }
   ],
   "source": [
    "# создадим сет признаков которые должны быть в первой колонке\n",
    "trip_type = set(tags_df.iloc[:,0].value_counts().head(2).keys())\n",
    "# остальное сразу добавим в сет для второй колонки\n",
    "visitors_type = set(tags_df.iloc[:,0].value_counts().keys()[2:])\n",
    "# удалим признаки первой колонки из общего мешка\n",
    "tag_set -= trip_type\n",
    "# порядок элементов в сете будет скакать, а нам это для дальнейшей работы не нужно\n",
    "trip_type = list(trip_type)\n",
    "len(tag_set)"
   ]
  },
  {
   "cell_type": "code",
   "execution_count": 35,
   "metadata": {},
   "outputs": [
    {
     "data": {
      "text/plain": [
       "2359"
      ]
     },
     "execution_count": 35,
     "metadata": {},
     "output_type": "execute_result"
    }
   ],
   "source": [
    "# Вторая колонка - Количество гостей. Какое то количество этих тэгов мы уже перехватили в первую колонке.\n",
    "# Посмотрим есть ли какие-то дополнительные во второй.\n",
    "tags_df.iloc[:,1].value_counts().head(30)\n",
    "# Нету, мы пособирали все. Вычтем гостевые теги из общего мешка и переведем в лист для удобства.\n",
    "tag_set -= visitors_type\n",
    "visitors_type = list(visitors_type)\n",
    "len(tag_set)"
   ]
  },
  {
   "cell_type": "code",
   "execution_count": 36,
   "metadata": {},
   "outputs": [
    {
     "data": {
      "text/plain": [
       " Stayed 1 night                     140089\n",
       " Stayed 2 nights                     97500\n",
       " Stayed 3 nights                     70153\n",
       " Stayed 4 nights                     34789\n",
       " Stayed 5 nights                     15171\n",
       " Stayed 6 nights                      7115\n",
       " Submitted from a mobile device       7083\n",
       " Stayed 7 nights                      5319\n",
       " Stayed 8 nights                      1823\n",
       " Stayed 9 nights                       916\n",
       "Name: Длина визита, dtype: int64"
      ]
     },
     "execution_count": 36,
     "metadata": {},
     "output_type": "execute_result"
    }
   ],
   "source": [
    "# Типов квартир (3я колонка) - очень много, возьmемся за них потом методом исключения\n",
    "# Посмотрим на колонку длиной визита (4ю колонку)\n",
    "tags_df.iloc[:,3].value_counts().head(10)"
   ]
  },
  {
   "cell_type": "code",
   "execution_count": 37,
   "metadata": {},
   "outputs": [
    {
     "data": {
      "text/plain": [
       "2329"
      ]
     },
     "execution_count": 37,
     "metadata": {},
     "output_type": "execute_result"
    }
   ],
   "source": [
    "# тут тоже есть левые значения, но нужную информацию будет просто вытянуть просто по слову stayed, \n",
    "# тут даже regex не нужен\n",
    "stay_length = {stay for stay in tag_set if 'Stayed' in stay}\n",
    "# удалим их из общего мешка\n",
    "tag_set -= stay_length\n",
    "stay_length = list(stay_length)\n",
    "# Выглядит как ординальный признак, отсортируем его по количеству ночей по восходящей\n",
    "stay_length.sort(key=lambda x: int(x.split()[1]))\n",
    "len(tag_set)"
   ]
  },
  {
   "cell_type": "code",
   "execution_count": 38,
   "metadata": {},
   "outputs": [
    {
     "data": {
      "text/plain": [
       " Submitted from a mobile device     223052\n",
       " Stayed 1 night                        405\n",
       " Stayed 2 nights                       265\n",
       " Stayed 3 nights                       164\n",
       " Stayed 4 nights                        70\n",
       " Stayed 5 nights                        30\n",
       " Stayed 6 nights                        12\n",
       " Stayed 7 nights                        10\n",
       " Stayed 8 nights                         3\n",
       " Stayed 9 nights                         3\n",
       "Name: Отправлено с устройства ..., dtype: int64"
      ]
     },
     "execution_count": 38,
     "metadata": {},
     "output_type": "execute_result"
    }
   ],
   "source": [
    "# Остается пятая колонка где 223052 значений заполнено строкой Submitted from a mobile device. \n",
    "tags_df.iloc[:,4].value_counts().head(10)\n",
    "# Судя по всему колонка отвечает только за это. Странно, но нам же лучше - проще будет кодировать."
   ]
  },
  {
   "cell_type": "code",
   "execution_count": 39,
   "metadata": {},
   "outputs": [
    {
     "data": {
      "text/plain": [
       "2328"
      ]
     },
     "execution_count": 39,
     "metadata": {},
     "output_type": "execute_result"
    }
   ],
   "source": [
    "mob_dev = tags_df.iloc[:,4].value_counts().keys()[0]\n",
    "# удалим eго из общего мешка\n",
    "tag_set.remove(mob_dev)\n",
    "len(tag_set)"
   ]
  },
  {
   "attachments": {},
   "cell_type": "markdown",
   "metadata": {},
   "source": [
    "В пятой колонке никаких уникальных значений не осталось, а это значит что мы учли все и остаток нашего мешка сетов это исключительно названия типов квартир."
   ]
  },
  {
   "cell_type": "code",
   "execution_count": 40,
   "metadata": {},
   "outputs": [
    {
     "data": {
      "text/plain": [
       " Submitted from a mobile device     563\n",
       "Name: other, dtype: int64"
      ]
     },
     "execution_count": 40,
     "metadata": {},
     "output_type": "execute_result"
    }
   ],
   "source": [
    "tags_df.iloc[:,5].value_counts().head(10)"
   ]
  },
  {
   "cell_type": "code",
   "execution_count": 41,
   "metadata": {},
   "outputs": [],
   "source": [
    "# Вернемся к Типам квартир (3я колонка). Их очень много, а потому для них мы изменим подход немного - \n",
    "# мы сначала полностью заполним соответсвующую колонку всеми найденными тэгами \n",
    "# (они были размазаны на 3 колонки)\n",
    "def tag_gatherer(x, tag_lst):\n",
    "    for tag in x:\n",
    "        if tag in tag_lst:\n",
    "            return tag\n",
    "        else:\n",
    "            pass\n",
    "# Типы комнат\n",
    "acc_type = list(tag_set)\n",
    "hotels['acc_type_tag'] = hotels['tags'].apply(lambda x: tag_gatherer(x, acc_type))"
   ]
  },
  {
   "cell_type": "code",
   "execution_count": 42,
   "metadata": {},
   "outputs": [],
   "source": [
    "# теперь чтобы не кодировать все 2.5к тэгов, выберем только те, кто составляет 90% всех значений\n",
    "# Найдем ключ последнего из топ Н значений, составляющих первые 90 % значений\n",
    "cum_sum = 0\n",
    "for key, value in hotels['acc_type_tag'].value_counts().items():\n",
    "    if cum_sum / hotels['acc_type_tag'].shape[0] < 0.9:\n",
    "        cum_sum+=value\n",
    "    else:\n",
    "        break\n",
    "# Засунем все топ значения в лист\n",
    "top_90_lst = list(hotels['acc_type_tag'].value_counts()[:key].keys())\n",
    "# заменим все что не входит в топ_90% на other\n",
    "hotels['acc_type_tag'] = hotels['acc_type_tag'].apply(lambda x: x if x in top_90_lst else 'other')"
   ]
  },
  {
   "cell_type": "code",
   "execution_count": 43,
   "metadata": {},
   "outputs": [],
   "source": [
    "# И вот теперь наконец закодируем колонку типа проживания\n",
    "# тут уже можно воспользовпаться просто LabelEncoder()\n",
    "label_encoder = preprocessing.LabelEncoder()\n",
    "hotels['acc_type_tag'] = label_encoder.fit_transform(hotels['acc_type_tag'])"
   ]
  },
  {
   "attachments": {},
   "cell_type": "markdown",
   "metadata": {},
   "source": [
    "Теперь сделаем ручное label кодирование остальных признаков"
   ]
  },
  {
   "cell_type": "code",
   "execution_count": 44,
   "metadata": {},
   "outputs": [],
   "source": [
    "# Простенький кодировщик - можно было написать лямбдой, но неохота была городить,\n",
    "# так читабельнее\n",
    "def label_coder(x, tag_lst):\n",
    "    for tag in x:\n",
    "        if tag in tag_lst:\n",
    "            return tag_lst.index(tag)\n",
    "        else:\n",
    "            pass"
   ]
  },
  {
   "cell_type": "code",
   "execution_count": 45,
   "metadata": {},
   "outputs": [],
   "source": [
    "# Тип поездки\n",
    "hotels['trip_type_tag'] = hotels['tags'].apply(lambda x: label_coder(x, trip_type))\n",
    "# Количество гостей\n",
    "hotels['visitors_type_tag'] = hotels['tags'].apply(lambda x: label_coder(x, visitors_type))\n",
    "# Длина проживания\n",
    "hotels['stay_length_tag'] = hotels['tags'].apply(lambda x: label_coder(x, stay_length))\n",
    "# Написано на телефоне\n",
    "hotels['mob_dev_tag'] = hotels['tags'].apply(lambda x: label_coder(x, mob_dev))\n",
    "# Дропаем колонку с тэгами \n",
    "hotels.drop('tags', axis=1, inplace=True)"
   ]
  },
  {
   "attachments": {},
   "cell_type": "markdown",
   "metadata": {},
   "source": [
    "Теперь проверим полученные колонки на пропуски"
   ]
  },
  {
   "cell_type": "code",
   "execution_count": 46,
   "metadata": {},
   "outputs": [
    {
     "data": {
      "text/plain": [
       "acc_type_tag              0\n",
       "trip_type_tag         11221\n",
       "visitors_type_tag         0\n",
       "stay_length_tag         146\n",
       "mob_dev_tag          156025\n",
       "dtype: int64"
      ]
     },
     "execution_count": 46,
     "metadata": {},
     "output_type": "execute_result"
    }
   ],
   "source": [
    "hotels.loc[:,'acc_type_tag':].isna().sum()"
   ]
  },
  {
   "attachments": {},
   "cell_type": "markdown",
   "metadata": {},
   "source": [
    "`trip_type_tag` \n",
    "Когда человек едет по работе, он обычно не забывает поставить нужный тэг - так как рабочие поездки ему оплачиваются в бухгалтерии, которой нужно относить все бумажки. А если человек едет на отдых, он может просто забить на любые пометки. Плюс соотношение leasure trip к Bussiness trip - 4 к 1.\n",
    "\n",
    "Поэтому - решено\n",
    "* Забиваем в `trip_type_tag` все пропуски нулями (которые значат отдых);\n",
    "\n",
    "* В `stay_length_tag`  - модой (там пропусков - кот наплакал, ничего не испортим);\n",
    "\n",
    "* В  `mob_dev_tag` - пропусков почти половина, что видимо значит что отзыв написан не с телефона, а с другого устройства, дадим этому \"другому устройству\" код 1"
   ]
  },
  {
   "cell_type": "code",
   "execution_count": 47,
   "metadata": {},
   "outputs": [],
   "source": [
    "# trip_type_tag\n",
    "hotels.loc[hotels['trip_type_tag'].isna() == True, 'trip_type_tag'] = 0\n",
    "# stay_length_tag\n",
    "hotels.loc[hotels['stay_length_tag'].isna() == True, 'stay_length_tag'] = hotels['stay_length_tag'].mode()[0]\n",
    "# mob_dev_tag\n",
    "hotels.loc[hotels['mob_dev_tag'].isna() == True, 'mob_dev_tag'] = 1"
   ]
  },
  {
   "cell_type": "code",
   "execution_count": 48,
   "metadata": {},
   "outputs": [
    {
     "name": "stdout",
     "output_type": "stream",
     "text": [
      "<class 'pandas.core.frame.DataFrame'>\n",
      "RangeIndex: 386803 entries, 0 to 386802\n",
      "Data columns (total 4 columns):\n",
      " #   Column             Non-Null Count   Dtype  \n",
      "---  ------             --------------   -----  \n",
      " 0   trip_type_tag      386803 non-null  float64\n",
      " 1   visitors_type_tag  386803 non-null  int64  \n",
      " 2   stay_length_tag    386803 non-null  float64\n",
      " 3   mob_dev_tag        386803 non-null  float64\n",
      "dtypes: float64(3), int64(1)\n",
      "memory usage: 11.8 MB\n"
     ]
    }
   ],
   "source": [
    "hotels.loc[:,'trip_type_tag':].info()"
   ]
  },
  {
   "attachments": {},
   "cell_type": "markdown",
   "metadata": {},
   "source": [
    "## `days_since_review`\n",
    "Тут все просто, выделяем числовоую часть и переводим в числа."
   ]
  },
  {
   "cell_type": "code",
   "execution_count": 49,
   "metadata": {},
   "outputs": [],
   "source": [
    "hotels['days_since_review'] = hotels['days_since_review'].apply(lambda x: int(x.split()[0]))"
   ]
  },
  {
   "attachments": {},
   "cell_type": "markdown",
   "metadata": {},
   "source": [
    "# Отбор признаков\n",
    "## Проверка на мультиколлинеарность"
   ]
  },
  {
   "cell_type": "code",
   "execution_count": 56,
   "metadata": {},
   "outputs": [
    {
     "name": "stdout",
     "output_type": "stream",
     "text": [
      "<class 'pandas.core.frame.DataFrame'>\n",
      "RangeIndex: 386803 entries, 0 to 386802\n",
      "Data columns (total 23 columns):\n",
      " #   Column                                      Non-Null Count   Dtype  \n",
      "---  ------                                      --------------   -----  \n",
      " 0   additional_number_of_scoring                386803 non-null  int64  \n",
      " 1   review_date                                 386803 non-null  float64\n",
      " 2   average_score                               386803 non-null  float64\n",
      " 3   review_total_negative_word_counts           386803 non-null  int64  \n",
      " 4   total_number_of_reviews                     386803 non-null  int64  \n",
      " 5   review_total_positive_word_counts           386803 non-null  int64  \n",
      " 6   total_number_of_reviews_reviewer_has_given  386803 non-null  int64  \n",
      " 7   reviewer_score                              386803 non-null  float64\n",
      " 8   days_since_review                           386803 non-null  int64  \n",
      " 9   hotel_names_encoded                         386803 non-null  int64  \n",
      " 10  coord_code                                  386803 non-null  float64\n",
      " 11  negative_review_tone                        386803 non-null  float64\n",
      " 12  positive_review_tone                        386803 non-null  float64\n",
      " 13  review_tone_sum                             386803 non-null  float64\n",
      " 14  review_month                                386803 non-null  int64  \n",
      " 15  review_day                                  386803 non-null  int64  \n",
      " 16  review_year                                 386803 non-null  int64  \n",
      " 17  reviewer_nationality_encoded                386803 non-null  int64  \n",
      " 18  acc_type_tag                                386803 non-null  int64  \n",
      " 19  trip_type_tag                               386803 non-null  float64\n",
      " 20  visitors_type_tag                           386803 non-null  int64  \n",
      " 21  stay_length_tag                             386803 non-null  float64\n",
      " 22  mob_dev_tag                                 386803 non-null  float64\n",
      "dtypes: float64(10), int64(13)\n",
      "memory usage: 67.9 MB\n"
     ]
    }
   ],
   "source": [
    "hotels.info()"
   ]
  },
  {
   "cell_type": "code",
   "execution_count": 65,
   "metadata": {},
   "outputs": [],
   "source": [
    "# Разделим признакм на непрерывные и категориальные (для них нужны будут разные подсчеты корреляции)\n",
    "# категориальные признаки (почти все что у нас есть)\n",
    "cat_cols = ['total_number_of_reviews', 'review_total_negative_word_counts', 'additional_number_of_scoring'\n",
    "            ,'review_total_positive_word_counts', 'total_number_of_reviews_reviewer_has_given', 'days_since_review'\n",
    "            ,'hotel_names_encoded', 'coord_code', 'review_month','review_day', 'review_year', 'reviewer_nationality_encoded'\n",
    "            , 'acc_type_tag', 'trip_type_tag', 'visitors_type_tag', 'stay_length_tag', 'mob_dev_tag']\n",
    "\n",
    "# непрерывные признаки\n",
    "cont_cols = ['average_score', 'review_tone_sum', 'positive_review_tone', 'negative_review_tone', 'average_score']"
   ]
  },
  {
   "cell_type": "code",
   "execution_count": 64,
   "metadata": {},
   "outputs": [
    {
     "data": {
      "text/plain": [
       "<AxesSubplot:>"
      ]
     },
     "execution_count": 64,
     "metadata": {},
     "output_type": "execute_result"
    },
    {
     "data": {
      "image/png": "[encoded data removed]",
      "text/plain": [
       "<Figure size 864x720 with 2 Axes>"
      ]
     },
     "metadata": {
      "needs_background": "light"
     },
     "output_type": "display_data"
    }
   ],
   "source": [
    "# Смотрим на корреляцию категориальных дат. Для этого используем корреляцию Спирмена\n",
    "plt.figure(figsize=(12,10))\n",
    "sns.heatmap(round(hotels[cat_cols].corr('spearman'), 2), annot=True) \n"
   ]
  },
  {
   "cell_type": "code",
   "execution_count": 66,
   "metadata": {},
   "outputs": [
    {
     "data": {
      "text/plain": [
       "<AxesSubplot:>"
      ]
     },
     "execution_count": 66,
     "metadata": {},
     "output_type": "execute_result"
    },
    {
     "data": {
      "image/png": "[encoded data removed]",
      "text/plain": [
       "<Figure size 576x432 with 2 Axes>"
      ]
     },
     "metadata": {
      "needs_background": "light"
     },
     "output_type": "display_data"
    }
   ],
   "source": [
    "# Смотрим на корреляцию непрерывных дат. Для этого используем корреляцию Пирсона\n",
    "plt.figure(figsize=(8,6))\n",
    "sns.heatmap(round(hotels[cont_cols].corr('spearman'), 2), annot=True) "
   ]
  },
  {
   "attachments": {},
   "cell_type": "markdown",
   "metadata": {},
   "source": [
    "По результатам:\n",
    "### Категориальные признаки:\n",
    "\n",
    "Высокая скоррелированность наблюдается между day_since_review и review_year.\n",
    "\n",
    "Удалим review year.\n",
    "\n",
    "### Непрерывные признаки:\n",
    "Высокая скоррелированность наблюдается между negative/positive_review_tone и review_tone_sum (что было ожидаемо).\n",
    "\n",
    "Удалим review_tone_sum.\n"
   ]
  },
  {
   "cell_type": "code",
   "execution_count": 75,
   "metadata": {},
   "outputs": [],
   "source": [
    "hotels = hotels.drop(['review_year', 'review_tone_sum'], axis=1)\n",
    "# обновляем списки колонок\n",
    "cont_cols.remove('review_tone_sum')\n",
    "cat_cols.remove('review_year')"
   ]
  },
  {
   "cell_type": "code",
   "execution_count": 74,
   "metadata": {},
   "outputs": [
    {
     "data": {
      "text/plain": [
       "['average_score',\n",
       " 'positive_review_tone',\n",
       " 'negative_review_tone',\n",
       " 'average_score']"
      ]
     },
     "execution_count": 74,
     "metadata": {},
     "output_type": "execute_result"
    }
   ],
   "source": [
    "cont_cols"
   ]
  },
  {
   "cell_type": "code",
   "execution_count": 80,
   "metadata": {},
   "outputs": [],
   "source": [
    "# Разбиваем датафрейм на части, необходимые для обучения и тестирования модели  \n",
    "# Х - данные с информацией об отелях, у - целевая переменная (рейтинги отелей)  \n",
    "X = hotels.drop(['reviewer_score'], axis = 1)  \n",
    "y = hotels['reviewer_score'] "
   ]
  },
  {
   "cell_type": "code",
   "execution_count": 82,
   "metadata": {},
   "outputs": [
    {
     "data": {
      "text/plain": [
       "<AxesSubplot:>"
      ]
     },
     "execution_count": 82,
     "metadata": {},
     "output_type": "execute_result"
    },
    {
     "data": {
      "image/png": "[encoded data removed]",
      "text/plain": [
       "<Figure size 432x288 with 1 Axes>"
      ]
     },
     "metadata": {
      "needs_background": "light"
     },
     "output_type": "display_data"
    }
   ],
   "source": [
    "y=y.astype('int')\n",
    "\n",
    "...\n",
    "from sklearn.feature_selection import chi2 # хи-квадрат\n",
    "\n",
    "imp_cat = pd.Series(chi2(X[cat_cols], y)[0], index=cat_cols)\n",
    "imp_cat.sort_values(inplace = True)\n",
    "imp_cat.plot(kind = 'barh')"
   ]
  },
  {
   "cell_type": "code",
   "execution_count": 84,
   "metadata": {},
   "outputs": [
    {
     "data": {
      "text/plain": [
       "<AxesSubplot:>"
      ]
     },
     "execution_count": 84,
     "metadata": {},
     "output_type": "execute_result"
    },
    {
     "data": {
      "image/png": "[encoded data removed]",
      "text/plain": [
       "<Figure size 432x288 with 1 Axes>"
      ]
     },
     "metadata": {
      "needs_background": "light"
     },
     "output_type": "display_data"
    }
   ],
   "source": [
    "from sklearn.feature_selection import f_classif # anova\n",
    "\n",
    "imp_num = pd.Series(f_classif(X[cont_cols], y)[0], index = cont_cols)\n",
    "imp_num.sort_values(inplace = True)\n",
    "imp_num.plot(kind = 'barh')"
   ]
  },
  {
   "attachments": {},
   "cell_type": "markdown",
   "metadata": {},
   "source": [
    "## Выводы:\n",
    "### Категориальные:\n",
    "Теги нерелевантны, так же как и дни с месяцами. Удалим их.\n",
    "### Непрерывные\n",
    "У непрерывных нет значений \"совсем на дне\". Оставим все."
   ]
  },
  {
   "cell_type": "code",
   "execution_count": 93,
   "metadata": {},
   "outputs": [],
   "source": [
    "# Удаляем нижние 8 категориальных аутсайдеров:\n",
    "outsiders = list(imp_cat.head(8).keys())\n",
    "hotels = hotels.drop(outsiders, axis=1)"
   ]
  },
  {
   "cell_type": "code",
   "execution_count": 94,
   "metadata": {},
   "outputs": [],
   "source": [
    "# Разбиваем датафрейм на части, необходимые для обучения и тестирования модели  \n",
    "# Х - данные с информацией об отелях, у - целевая переменная (рейтинги отелей)  \n",
    "X = hotels.drop(['reviewer_score'], axis = 1)  \n",
    "y = hotels['reviewer_score'] "
   ]
  },
  {
   "cell_type": "code",
   "execution_count": 95,
   "metadata": {},
   "outputs": [],
   "source": [
    "# Загружаем специальный инструмент для разбивки:  \n",
    "from sklearn.model_selection import train_test_split  "
   ]
  },
  {
   "cell_type": "code",
   "execution_count": 96,
   "metadata": {},
   "outputs": [],
   "source": [
    "# Наборы данных с меткой \"train\" будут использоваться для обучения модели, \"test\" - для тестирования.  \n",
    "# Для тестирования мы будем использовать 25% от исходного датасета.  \n",
    "X_train, X_test, y_train, y_test = train_test_split(X, y, test_size=0.25, random_state=42)"
   ]
  },
  {
   "cell_type": "code",
   "execution_count": 97,
   "metadata": {},
   "outputs": [
    {
     "name": "stdout",
     "output_type": "stream",
     "text": [
      "CPU times: user 4min 28s, sys: 811 ms, total: 4min 29s\n",
      "Wall time: 4min 30s\n"
     ]
    }
   ],
   "source": [
    "%%time\n",
    "# Импортируем необходимые библиотеки:  \n",
    "from sklearn.ensemble import RandomForestRegressor # инструмент для создания и обучения модели  \n",
    "from sklearn import metrics # инструменты для оценки точности модели  \n",
    "  \n",
    "# Создаём модель  \n",
    "regr = RandomForestRegressor(n_estimators=100)  \n",
    "      \n",
    "# Обучаем модель на тестовом наборе данных  \n",
    "regr.fit(X_train, y_train)  \n",
    "      \n",
    "# Используем обученную модель для предсказания рейтинга отелей в тестовой выборке.  \n",
    "# Предсказанные значения записываем в переменную y_pred  \n",
    "y_pred = regr.predict(X_test)  \n"
   ]
  },
  {
   "cell_type": "code",
   "execution_count": 98,
   "metadata": {},
   "outputs": [
    {
     "name": "stdout",
     "output_type": "stream",
     "text": [
      "MAPE: 0.12394111240367851\n"
     ]
    }
   ],
   "source": [
    "# Сравниваем предсказанные значения (y_pred) с реальными (y_test), и смотрим насколько они отличаются  \n",
    "# Метрика называется Mean Absolute Percentage Error (MAPE) и показывает среднюю абсолютную процентную ошибку предсказанных значений от фактических.  \n",
    "print('MAPE:', metrics.mean_absolute_percentage_error(y_test, y_pred))"
   ]
  },
  {
   "cell_type": "markdown",
   "metadata": {},
   "source": [
    "Небольшой бонус:\n"
   ]
  },
  {
   "cell_type": "code",
   "execution_count": null,
   "metadata": {},
   "outputs": [],
   "source": [
    "# # убираем признаки которые еще не успели обработать, \n",
    "# # модель на признаках с dtypes \"object\" обучаться не будет, просто выберим их и удалим\n",
    "# object_columns = [s for s in hotels.columns if hotels[s].dtypes == 'object']\n",
    "# hotels.drop(object_columns, axis = 1, inplace=True)\n",
    "\n",
    "# # заполняем пропуски самым простым способом\n",
    "# hotels = hotels.fillna(0)"
   ]
  }
 ],
 "metadata": {
  "kernelspec": {
   "display_name": "Python 3",
   "language": "python",
   "name": "python3"
  },
  "language_info": {
   "codemirror_mode": {
    "name": "ipython",
    "version": 3
   },
   "file_extension": ".py",
   "mimetype": "text/x-python",
   "name": "python",
   "nbconvert_exporter": "python",
   "pygments_lexer": "ipython3",
   "version": "3.10.6"
  },
  "vscode": {
   "interpreter": {
    "hash": "916dbcbb3f70747c44a77c7bcd40155683ae19c65e1c03b4aa3499c5328201f1"
   }
  }
 },
 "nbformat": 4,
 "nbformat_minor": 2
}
